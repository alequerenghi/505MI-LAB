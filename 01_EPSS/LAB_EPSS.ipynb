{
 "cells": [
  {
   "cell_type": "code",
   "execution_count": 1,
   "id": "e1e25226-3267-4503-8b9b-345187a2a6c1",
   "metadata": {},
   "outputs": [],
   "source": [
    "import pandas as pd\n",
    "import os\n",
    "import requests\n",
    "import json"
   ]
  },
  {
   "cell_type": "code",
   "execution_count": 2,
   "id": "3c39dc26-0b84-4c9f-931e-480a47338219",
   "metadata": {},
   "outputs": [],
   "source": [
    "import seaborn as sns\n",
    "import matplotlib.pyplot as plt\n",
    "sns.set_theme(style=\"whitegrid\")"
   ]
  },
  {
   "cell_type": "code",
   "execution_count": 3,
   "id": "7122124e-1ed7-4f00-99e0-e8061f55e5cd",
   "metadata": {},
   "outputs": [],
   "source": [
    "from preprocessing_utils import preprocess_NVD_data"
   ]
  },
  {
   "cell_type": "code",
   "execution_count": 4,
   "id": "d3b91608-cf6d-450a-8446-7a30a54c621e",
   "metadata": {},
   "outputs": [],
   "source": [
    "data_path = 'data'\n",
    "if not os.path.exists(data_path):\n",
    "    os.makedirs(data_path)"
   ]
  },
  {
   "cell_type": "markdown",
   "id": "180ddd39-557d-4249-ad39-fd06f106ba53",
   "metadata": {},
   "source": [
    "# EPSS data"
   ]
  },
  {
   "cell_type": "markdown",
   "id": "edd89066-8051-4b7b-a6c7-fd87a1c9974a",
   "metadata": {},
   "source": [
    "Download the EPSS data from https://www.first.org/epss/data_stats into `data` folder"
   ]
  },
  {
   "cell_type": "code",
   "execution_count": 5,
   "id": "7d837721-b351-427d-8fac-216790c63030",
   "metadata": {
    "scrolled": true
   },
   "outputs": [
    {
     "data": {
      "text/html": [
       "<div>\n",
       "<style scoped>\n",
       "    .dataframe tbody tr th:only-of-type {\n",
       "        vertical-align: middle;\n",
       "    }\n",
       "\n",
       "    .dataframe tbody tr th {\n",
       "        vertical-align: top;\n",
       "    }\n",
       "\n",
       "    .dataframe thead th {\n",
       "        text-align: right;\n",
       "    }\n",
       "</style>\n",
       "<table border=\"1\" class=\"dataframe\">\n",
       "  <thead>\n",
       "    <tr style=\"text-align: right;\">\n",
       "      <th></th>\n",
       "      <th>cve</th>\n",
       "      <th>epss</th>\n",
       "      <th>percentile</th>\n",
       "    </tr>\n",
       "  </thead>\n",
       "  <tbody>\n",
       "    <tr>\n",
       "      <th>0</th>\n",
       "      <td>CVE-1999-0001</td>\n",
       "      <td>0.01076</td>\n",
       "      <td>0.77053</td>\n",
       "    </tr>\n",
       "    <tr>\n",
       "      <th>1</th>\n",
       "      <td>CVE-1999-0002</td>\n",
       "      <td>0.15339</td>\n",
       "      <td>0.94381</td>\n",
       "    </tr>\n",
       "    <tr>\n",
       "      <th>2</th>\n",
       "      <td>CVE-1999-0003</td>\n",
       "      <td>0.90362</td>\n",
       "      <td>0.99577</td>\n",
       "    </tr>\n",
       "    <tr>\n",
       "      <th>3</th>\n",
       "      <td>CVE-1999-0004</td>\n",
       "      <td>0.03215</td>\n",
       "      <td>0.86538</td>\n",
       "    </tr>\n",
       "    <tr>\n",
       "      <th>4</th>\n",
       "      <td>CVE-1999-0005</td>\n",
       "      <td>0.25334</td>\n",
       "      <td>0.96002</td>\n",
       "    </tr>\n",
       "    <tr>\n",
       "      <th>...</th>\n",
       "      <td>...</td>\n",
       "      <td>...</td>\n",
       "      <td>...</td>\n",
       "    </tr>\n",
       "    <tr>\n",
       "      <th>296849</th>\n",
       "      <td>CVE-2025-9994</td>\n",
       "      <td>0.00063</td>\n",
       "      <td>0.20046</td>\n",
       "    </tr>\n",
       "    <tr>\n",
       "      <th>296850</th>\n",
       "      <td>CVE-2025-9996</td>\n",
       "      <td>0.00179</td>\n",
       "      <td>0.39898</td>\n",
       "    </tr>\n",
       "    <tr>\n",
       "      <th>296851</th>\n",
       "      <td>CVE-2025-9997</td>\n",
       "      <td>0.00182</td>\n",
       "      <td>0.40254</td>\n",
       "    </tr>\n",
       "    <tr>\n",
       "      <th>296852</th>\n",
       "      <td>CVE-2025-9998</td>\n",
       "      <td>0.00023</td>\n",
       "      <td>0.04721</td>\n",
       "    </tr>\n",
       "    <tr>\n",
       "      <th>296853</th>\n",
       "      <td>CVE-2025-9999</td>\n",
       "      <td>0.00040</td>\n",
       "      <td>0.11622</td>\n",
       "    </tr>\n",
       "  </tbody>\n",
       "</table>\n",
       "<p>296854 rows × 3 columns</p>\n",
       "</div>"
      ],
      "text/plain": [
       "                  cve     epss  percentile\n",
       "0       CVE-1999-0001  0.01076     0.77053\n",
       "1       CVE-1999-0002  0.15339     0.94381\n",
       "2       CVE-1999-0003  0.90362     0.99577\n",
       "3       CVE-1999-0004  0.03215     0.86538\n",
       "4       CVE-1999-0005  0.25334     0.96002\n",
       "...               ...      ...         ...\n",
       "296849  CVE-2025-9994  0.00063     0.20046\n",
       "296850  CVE-2025-9996  0.00179     0.39898\n",
       "296851  CVE-2025-9997  0.00182     0.40254\n",
       "296852  CVE-2025-9998  0.00023     0.04721\n",
       "296853  CVE-2025-9999  0.00040     0.11622\n",
       "\n",
       "[296854 rows x 3 columns]"
      ]
     },
     "execution_count": 5,
     "metadata": {},
     "output_type": "execute_result"
    }
   ],
   "source": [
    "epss_current = pd.read_csv(os.path.join(\n",
    "    data_path, 'epss_scores-2025-10-05.csv.gz'), compression='gzip', header=1)\n",
    "epss_current  # a Python statement with a variable name at the end of a cell will display its contents below"
   ]
  },
  {
   "cell_type": "markdown",
   "id": "b1f75ed9-5eab-43a7-9f7e-77e19a40d5a7",
   "metadata": {},
   "source": [
    "# NVD data"
   ]
  },
  {
   "cell_type": "code",
   "execution_count": 6,
   "id": "59f48abf-b55b-4376-a88c-2695f93281eb",
   "metadata": {},
   "outputs": [
    {
     "name": "stdout",
     "output_type": "stream",
     "text": [
      "1000\n",
      "2000\n",
      "3000\n",
      "4000\n",
      "5000\n"
     ]
    }
   ],
   "source": [
    "base_url = \"https://services.nvd.nist.gov/rest/json/cves/2.0\"\n",
    "date_start_NVD = '2025-09-01T00:00:00.000Z'  # Do NOT change these dates\n",
    "date_end_NVD = '2025-10-01T00:00:00.000Z'  # Do NOT change these dates\n",
    "start_index = 0\n",
    "results_per_page = 1000\n",
    "total_results = 1\n",
    "\n",
    "all_cves = []\n",
    "\n",
    "while start_index < total_results:\n",
    "    params = {\n",
    "        \"pubStartDate\": date_start_NVD,\n",
    "        \"pubEndDate\": date_end_NVD,\n",
    "        \"resultsPerPage\": results_per_page,\n",
    "        \"startIndex\": start_index,\n",
    "        \"noRejected\": \"\"\n",
    "    }\n",
    "    response = requests.get(base_url, params=params, timeout=6)\n",
    "    if response.status_code != 200:\n",
    "        print(\"Error:\", response.status_code)\n",
    "        break\n",
    "\n",
    "    data = response.json()\n",
    "    total_results = data.get(\"totalResults\", 0)\n",
    "\n",
    "    all_cves.extend(data.get(\"vulnerabilities\", []))\n",
    "\n",
    "    start_index += results_per_page\n",
    "    print(start_index)"
   ]
  },
  {
   "cell_type": "code",
   "execution_count": 7,
   "id": "6f9210c3-11ab-4edd-8e72-136ecee23c22",
   "metadata": {
    "scrolled": true
   },
   "outputs": [],
   "source": [
    "# normalize and preprocess data\n",
    "df = pd.json_normalize(all_cves, record_path=None, sep='.', max_level=None)\n",
    "df = preprocess_NVD_data(df)\n",
    "\n",
    "# remove vulnerabilities marked as \"reject\" or \"reserved\"\n",
    "df = df[(df['cve.vulnStatus'] != 'Reserved')\n",
    "        & (df['cve.vulnStatus'] != 'Reject')]\n",
    "\n",
    "# merge NVD and EPSS data\n",
    "df = df.merge(epss_current, left_on=\"cve.id\", right_on=\"cve\", how=\"left\")"
   ]
  },
  {
   "cell_type": "code",
   "execution_count": 8,
   "id": "b4e33108-be55-4b92-946e-fdb85371c8f6",
   "metadata": {},
   "outputs": [],
   "source": [
    "# save nvd data\n",
    "with open(os.path.join(data_path, \"nvd_cves.json\"), \"w\", encoding=\"utf-8\") as f:\n",
    "    json.dump(all_cves, f, indent=2)\n",
    "\n",
    "# save the final dataframe\n",
    "df.to_csv(os.path.join(data_path, \"vuln_2025_09.csv\"))"
   ]
  },
  {
   "cell_type": "markdown",
   "id": "8a433287-3840-4f6c-88c7-61ea90844810",
   "metadata": {},
   "source": [
    "# Exploratory Data Analysis"
   ]
  },
  {
   "cell_type": "markdown",
   "id": "fa77d3c3-db8e-4c2a-9ebd-8efad0f7185a",
   "metadata": {},
   "source": [
    "- display some examples (e.g., the first two CVE records)"
   ]
  },
  {
   "cell_type": "code",
   "execution_count": 49,
   "id": "00c2bcea-ef6a-4305-8f76-75c6abfe28ff",
   "metadata": {},
   "outputs": [
    {
     "name": "stdout",
     "output_type": "stream",
     "text": [
      "Index(['cve.id', 'cve.sourceIdentifier', 'cve.published', 'cve.lastModified',\n",
      "       'cve.vulnStatus', 'cve.references', 'cve.cisaExploitAdd',\n",
      "       'cve.cisaActionDue', 'cve.cisaRequiredAction',\n",
      "       'cve.cisaVulnerabilityName', 'description', 'vulnerable_cpes',\n",
      "       'num_references', 'cwe_list', 'cvss_version', 'cvss_vectorString',\n",
      "       'cvss_baseScore', 'cvss_baseSeverity', 'cvss_attackVector',\n",
      "       'cvss_attackComplexity', 'cvss_privilegesRequired',\n",
      "       'cvss_userInteraction', 'cvss_scope', 'cvss_confidentialityImpact',\n",
      "       'cvss_integrityImpact', 'cvss_availabilityImpact', 'cve', 'epss',\n",
      "       'percentile'],\n",
      "      dtype='object')\n"
     ]
    }
   ],
   "source": [
    "print(df.columns)"
   ]
  },
  {
   "cell_type": "markdown",
   "id": "37ec5219-2d00-4665-90b0-1f5b681f7dfd",
   "metadata": {},
   "source": [
    "- show a bar plot with the daily volume of published CVEs"
   ]
  },
  {
   "cell_type": "code",
   "execution_count": null,
   "id": "a45357d5-2b0d-418e-a528-7cdd887a0341",
   "metadata": {},
   "outputs": [
    {
     "data": {
      "image/png": "[encoded data removed]",
      "text/plain": [
       "<Figure size 1000x600 with 1 Axes>"
      ]
     },
     "metadata": {},
     "output_type": "display_data"
    }
   ],
   "source": [
    "published_counts = df[\"cve.published\"].dt.date.value_counts().sort_index()\n",
    "\n",
    "plt.figure(figsize=(10, 6))\n",
    "sns.barplot(x=published_counts.values, y=published_counts.index, color=\"k\")\n",
    "plt.xlabel(\"Date\")\n",
    "plt.ylabel(\"Number of CVEs Published\")\n",
    "plt.title(\"CVE Publications per Day\")\n",
    "plt.tight_layout()\n",
    "plt.show()"
   ]
  },
  {
   "cell_type": "code",
   "execution_count": 36,
   "id": "6e291c06-a427-4fee-a3f6-4ba19ad81811",
   "metadata": {},
   "outputs": [
    {
     "data": {
      "text/html": [
       "<div>\n",
       "<style scoped>\n",
       "    .dataframe tbody tr th:only-of-type {\n",
       "        vertical-align: middle;\n",
       "    }\n",
       "\n",
       "    .dataframe tbody tr th {\n",
       "        vertical-align: top;\n",
       "    }\n",
       "\n",
       "    .dataframe thead th {\n",
       "        text-align: right;\n",
       "    }\n",
       "</style>\n",
       "<table border=\"1\" class=\"dataframe\">\n",
       "  <thead>\n",
       "    <tr style=\"text-align: right;\">\n",
       "      <th></th>\n",
       "      <th>0</th>\n",
       "      <th>1</th>\n",
       "    </tr>\n",
       "  </thead>\n",
       "  <tbody>\n",
       "    <tr>\n",
       "      <th>cve.id</th>\n",
       "      <td>CVE-2025-9751</td>\n",
       "      <td>CVE-2025-9752</td>\n",
       "    </tr>\n",
       "    <tr>\n",
       "      <th>cve.sourceIdentifier</th>\n",
       "      <td>cna@vuldb.com</td>\n",
       "      <td>cna@vuldb.com</td>\n",
       "    </tr>\n",
       "    <tr>\n",
       "      <th>cve.published</th>\n",
       "      <td>2025-09-01 00:15:34.580000</td>\n",
       "      <td>2025-09-01 01:15:46.817000</td>\n",
       "    </tr>\n",
       "    <tr>\n",
       "      <th>cve.lastModified</th>\n",
       "      <td>2025-09-08 14:06:05.217000</td>\n",
       "      <td>2025-09-04 18:47:25.440000</td>\n",
       "    </tr>\n",
       "    <tr>\n",
       "      <th>cve.vulnStatus</th>\n",
       "      <td>Analyzed</td>\n",
       "      <td>Analyzed</td>\n",
       "    </tr>\n",
       "    <tr>\n",
       "      <th>cve.references</th>\n",
       "      <td>[{'url': 'https://github.com/HAO-RAY/HCR-CVE/i...</td>\n",
       "      <td>[{'url': 'https://github.com/i-Corner/cve/issu...</td>\n",
       "    </tr>\n",
       "    <tr>\n",
       "      <th>cve.cisaExploitAdd</th>\n",
       "      <td>NaN</td>\n",
       "      <td>NaN</td>\n",
       "    </tr>\n",
       "    <tr>\n",
       "      <th>cve.cisaActionDue</th>\n",
       "      <td>NaN</td>\n",
       "      <td>NaN</td>\n",
       "    </tr>\n",
       "    <tr>\n",
       "      <th>cve.cisaRequiredAction</th>\n",
       "      <td>NaN</td>\n",
       "      <td>NaN</td>\n",
       "    </tr>\n",
       "    <tr>\n",
       "      <th>cve.cisaVulnerabilityName</th>\n",
       "      <td>NaN</td>\n",
       "      <td>NaN</td>\n",
       "    </tr>\n",
       "    <tr>\n",
       "      <th>description</th>\n",
       "      <td>A weakness has been identified in Campcodes On...</td>\n",
       "      <td>A security vulnerability has been detected in ...</td>\n",
       "    </tr>\n",
       "    <tr>\n",
       "      <th>vulnerable_cpes</th>\n",
       "      <td>[cpe:2.3:a:campcodes:online_learning_managemen...</td>\n",
       "      <td>[cpe:2.3:o:dlink:dir-852_firmware:1.00cn_b09:*...</td>\n",
       "    </tr>\n",
       "    <tr>\n",
       "      <th>num_references</th>\n",
       "      <td>6</td>\n",
       "      <td>6</td>\n",
       "    </tr>\n",
       "    <tr>\n",
       "      <th>cwe_list</th>\n",
       "      <td>[CWE-74, CWE-89, CWE-89]</td>\n",
       "      <td>[CWE-77, CWE-78, CWE-78]</td>\n",
       "    </tr>\n",
       "    <tr>\n",
       "      <th>cvss_version</th>\n",
       "      <td>3.1</td>\n",
       "      <td>3.1</td>\n",
       "    </tr>\n",
       "    <tr>\n",
       "      <th>cvss_vectorString</th>\n",
       "      <td>CVSS:3.1/AV:N/AC:L/PR:N/UI:N/S:U/C:H/I:H/A:H</td>\n",
       "      <td>CVSS:3.1/AV:N/AC:L/PR:N/UI:N/S:U/C:H/I:H/A:H</td>\n",
       "    </tr>\n",
       "    <tr>\n",
       "      <th>cvss_baseScore</th>\n",
       "      <td>9.8</td>\n",
       "      <td>9.8</td>\n",
       "    </tr>\n",
       "    <tr>\n",
       "      <th>cvss_baseSeverity</th>\n",
       "      <td>CRITICAL</td>\n",
       "      <td>CRITICAL</td>\n",
       "    </tr>\n",
       "    <tr>\n",
       "      <th>cvss_attackVector</th>\n",
       "      <td>NETWORK</td>\n",
       "      <td>NETWORK</td>\n",
       "    </tr>\n",
       "    <tr>\n",
       "      <th>cvss_attackComplexity</th>\n",
       "      <td>LOW</td>\n",
       "      <td>LOW</td>\n",
       "    </tr>\n",
       "    <tr>\n",
       "      <th>cvss_privilegesRequired</th>\n",
       "      <td>NONE</td>\n",
       "      <td>NONE</td>\n",
       "    </tr>\n",
       "    <tr>\n",
       "      <th>cvss_userInteraction</th>\n",
       "      <td>NONE</td>\n",
       "      <td>NONE</td>\n",
       "    </tr>\n",
       "    <tr>\n",
       "      <th>cvss_scope</th>\n",
       "      <td>UNCHANGED</td>\n",
       "      <td>UNCHANGED</td>\n",
       "    </tr>\n",
       "    <tr>\n",
       "      <th>cvss_confidentialityImpact</th>\n",
       "      <td>HIGH</td>\n",
       "      <td>HIGH</td>\n",
       "    </tr>\n",
       "    <tr>\n",
       "      <th>cvss_integrityImpact</th>\n",
       "      <td>HIGH</td>\n",
       "      <td>HIGH</td>\n",
       "    </tr>\n",
       "    <tr>\n",
       "      <th>cvss_availabilityImpact</th>\n",
       "      <td>HIGH</td>\n",
       "      <td>HIGH</td>\n",
       "    </tr>\n",
       "    <tr>\n",
       "      <th>cve</th>\n",
       "      <td>CVE-2025-9751</td>\n",
       "      <td>CVE-2025-9752</td>\n",
       "    </tr>\n",
       "    <tr>\n",
       "      <th>epss</th>\n",
       "      <td>0.0003</td>\n",
       "      <td>0.00242</td>\n",
       "    </tr>\n",
       "    <tr>\n",
       "      <th>percentile</th>\n",
       "      <td>0.07289</td>\n",
       "      <td>0.47433</td>\n",
       "    </tr>\n",
       "  </tbody>\n",
       "</table>\n",
       "</div>"
      ],
      "text/plain": [
       "                                                                            0  \\\n",
       "cve.id                                                          CVE-2025-9751   \n",
       "cve.sourceIdentifier                                            cna@vuldb.com   \n",
       "cve.published                                      2025-09-01 00:15:34.580000   \n",
       "cve.lastModified                                   2025-09-08 14:06:05.217000   \n",
       "cve.vulnStatus                                                       Analyzed   \n",
       "cve.references              [{'url': 'https://github.com/HAO-RAY/HCR-CVE/i...   \n",
       "cve.cisaExploitAdd                                                        NaN   \n",
       "cve.cisaActionDue                                                         NaN   \n",
       "cve.cisaRequiredAction                                                    NaN   \n",
       "cve.cisaVulnerabilityName                                                 NaN   \n",
       "description                 A weakness has been identified in Campcodes On...   \n",
       "vulnerable_cpes             [cpe:2.3:a:campcodes:online_learning_managemen...   \n",
       "num_references                                                              6   \n",
       "cwe_list                                             [CWE-74, CWE-89, CWE-89]   \n",
       "cvss_version                                                              3.1   \n",
       "cvss_vectorString                CVSS:3.1/AV:N/AC:L/PR:N/UI:N/S:U/C:H/I:H/A:H   \n",
       "cvss_baseScore                                                            9.8   \n",
       "cvss_baseSeverity                                                    CRITICAL   \n",
       "cvss_attackVector                                                     NETWORK   \n",
       "cvss_attackComplexity                                                     LOW   \n",
       "cvss_privilegesRequired                                                  NONE   \n",
       "cvss_userInteraction                                                     NONE   \n",
       "cvss_scope                                                          UNCHANGED   \n",
       "cvss_confidentialityImpact                                               HIGH   \n",
       "cvss_integrityImpact                                                     HIGH   \n",
       "cvss_availabilityImpact                                                  HIGH   \n",
       "cve                                                             CVE-2025-9751   \n",
       "epss                                                                   0.0003   \n",
       "percentile                                                            0.07289   \n",
       "\n",
       "                                                                            1  \n",
       "cve.id                                                          CVE-2025-9752  \n",
       "cve.sourceIdentifier                                            cna@vuldb.com  \n",
       "cve.published                                      2025-09-01 01:15:46.817000  \n",
       "cve.lastModified                                   2025-09-04 18:47:25.440000  \n",
       "cve.vulnStatus                                                       Analyzed  \n",
       "cve.references              [{'url': 'https://github.com/i-Corner/cve/issu...  \n",
       "cve.cisaExploitAdd                                                        NaN  \n",
       "cve.cisaActionDue                                                         NaN  \n",
       "cve.cisaRequiredAction                                                    NaN  \n",
       "cve.cisaVulnerabilityName                                                 NaN  \n",
       "description                 A security vulnerability has been detected in ...  \n",
       "vulnerable_cpes             [cpe:2.3:o:dlink:dir-852_firmware:1.00cn_b09:*...  \n",
       "num_references                                                              6  \n",
       "cwe_list                                             [CWE-77, CWE-78, CWE-78]  \n",
       "cvss_version                                                              3.1  \n",
       "cvss_vectorString                CVSS:3.1/AV:N/AC:L/PR:N/UI:N/S:U/C:H/I:H/A:H  \n",
       "cvss_baseScore                                                            9.8  \n",
       "cvss_baseSeverity                                                    CRITICAL  \n",
       "cvss_attackVector                                                     NETWORK  \n",
       "cvss_attackComplexity                                                     LOW  \n",
       "cvss_privilegesRequired                                                  NONE  \n",
       "cvss_userInteraction                                                     NONE  \n",
       "cvss_scope                                                          UNCHANGED  \n",
       "cvss_confidentialityImpact                                               HIGH  \n",
       "cvss_integrityImpact                                                     HIGH  \n",
       "cvss_availabilityImpact                                                  HIGH  \n",
       "cve                                                             CVE-2025-9752  \n",
       "epss                                                                  0.00242  \n",
       "percentile                                                            0.47433  "
      ]
     },
     "execution_count": 36,
     "metadata": {},
     "output_type": "execute_result"
    }
   ],
   "source": [
    "df.head(2).T"
   ]
  },
  {
   "cell_type": "markdown",
   "id": "ba40f44e-373a-407f-ae1e-0abd1ac51baf",
   "metadata": {},
   "source": [
    "- print the description of the last ten published vulnerabilities"
   ]
  },
  {
   "cell_type": "code",
   "execution_count": 21,
   "id": "b616d5e6-98e1-4fe4-82a8-44d58f2074a8",
   "metadata": {},
   "outputs": [
    {
     "name": "stdout",
     "output_type": "stream",
     "text": [
      "----------------------------------------------------------------------------------------------------\n",
      "CVE-2025-61792 2025-09-30 23:15:29.700000\n",
      "Quadient DS-700 iQ devices through 2025-09-30 might have a race condition during the quick clicking of (in order) the Question Mark button, the Help Button, the About button, and the Help Button, leading to a transition out of kiosk mode into local administrative access. NOTE: the reporter indicates that the \"behavior was observed sporadically\" during \"limited time on the client site,\" making it not \"possible to gain more information about the specific kiosk mode crashing issue,\" and the only conclusion was \"there appears to be some form of race condition.\" Accordingly, there can be doubt that a reproducible cybersecurity vulnerability was identified; sporadic software crashes can also be caused by a hardware fault on a single device (for example, transient RAM errors). The reporter also describes a variety of other issues, including initial access via USB because of the absence of a \"lock-pick resistant locking solution for the External Controller PC cabinet,\" which is not a cybersecurity vulnerability (section 4.1.5 of the CNA Operational Rules). Finally, it is unclear whether the device or OS configuration was inappropriate, given that the risks are typically limited to insider threats within the mail operations room of a large company.\n",
      "----------------------------------------------------------------------------------------------------\n",
      "CVE-2025-55191 2025-09-30 23:15:29.533000\n",
      "Argo CD is a declarative, GitOps continuous delivery tool for Kubernetes. Versions between 2.1.0 and 2.14.19, 3.2.0-rc1, 3.1.0-rc1 through 3.1.7, and 3.0.0-rc1 through 3.0.18 contain a race condition in the repository credentials handler that can cause the Argo CD server to panic and crash when concurrent operations are performed on the same repository URL. The vulnerability is located in numerous repository related handlers in the util/db/repository_secrets.go file. A valid API token with repositories resource permissions (create, update, or delete actions) is required to trigger the race condition. This vulnerability causes the entire Argo CD server to crash and become unavailable. Attackers can repeatedly and continuously trigger the race condition to maintain a denial-of-service state, disrupting all GitOps operations. This issue is fixed in versions 2.14.20, 3.2.0-rc2, 3.1.8 and 3.0.19.\n",
      "----------------------------------------------------------------------------------------------------\n",
      "CVE-2025-43826 2025-09-30 23:15:29.160000\n",
      "Stored cross-site scripting (XSS) vulnerabilities in Web Content translation in Liferay Portal 7.4.0 through 7.4.3.112, and older unsupported versions, and Liferay DXP 2023.Q4.0 through 2023.Q4.8, 2023.Q3.1 through 2023.Q3.10, 7.4 GA through update 92, and older unsupported versions allow remote attackers to inject arbitrary web script or HTML via any rich text field in a web content article.\n",
      "----------------------------------------------------------------------------------------------------\n",
      "CVE-2025-24525 2025-09-30 23:15:27.970000\n",
      "Keysight Ixia Vision has an issue with hardcoded cryptographic material \n",
      "which may allow an attacker to intercept or decrypt payloads sent to the\n",
      " device via API calls or user authentication if the end user does not \n",
      "replace the TLS certificate that shipped with the device. Remediation is\n",
      " available in Version 6.9.1, released on September 23, 2025.\n",
      "----------------------------------------------------------------------------------------------------\n",
      "CVE-2025-56392 2025-09-30 20:15:39.997000\n",
      "An Insecure Direct Object Reference (IDOR) in the /dashboard/notes endpoint of Syaqui Collegetivity v1.0.0 allows attackers to impersonate other users and perform arbitrary operations via a crafted POST request.\n",
      "----------------------------------------------------------------------------------------------------\n",
      "CVE-2025-36262 2025-09-30 20:15:37.993000\n",
      "IBM Planning Analytics Local 2.0.0 through 2.0.106 and 2.1.0 through 2.1.13 \n",
      "\n",
      "could allow a malicious privileged user to bypass the UI to gain unauthorized access to sensitive information due to the improper validation of input.\n",
      "----------------------------------------------------------------------------------------------------\n",
      "CVE-2025-36132 2025-09-30 20:15:37.810000\n",
      "IBM Planning Analytics Local 2.0.0 through 2.0.106 and 2.1.0 through 2.1.13 is vulnerable to cross-site scripting. This vulnerability allows an authenticated user to embed arbitrary JavaScript code in the Web UI thus altering the intended functionality potentially leading to credentials disclosure within a trusted session.\n",
      "----------------------------------------------------------------------------------------------------\n",
      "CVE-2025-10659 2025-09-30 20:15:36.450000\n",
      "The Telenium Online Web Application is vulnerable due to a PHP endpoint accessible to unauthenticated network users that improperly handles user-supplied input. This vulnerability occurs due to the insecure termination of a regular expression check within the endpoint. Because the input is not correctly validated or sanitized, an unauthenticated attacker can inject arbitrary operating system commands through a crafted HTTP request, leading to remote code execution on the server in the context of the web application service account.\n",
      "----------------------------------------------------------------------------------------------------\n",
      "CVE-2024-55017 2025-09-30 20:15:36.100000\n",
      "Account Takeover in Corezoid 6.6.0 in the OAuth2 implementation via an open redirect in the redirect_uri parameter allows attackers to intercept authorization codes and gain unauthorized access to victim accounts.\n",
      "----------------------------------------------------------------------------------------------------\n",
      "CVE-2025-56132 2025-09-30 19:15:37.253000\n",
      "LiquidFiles filetransfer server is vulnerable to a user enumeration issue in its password reset functionality. The application returns distinguishable responses for valid and invalid email addresses, allowing unauthenticated attackers to determine the existence of user accounts. Version 4.2 introduces user-based lockout mechanisms to mitigate brute-force attacks, user enumeration remains possible by default. In versions prior to 4.2, no such user-level protection is in place, only basic IP-based rate limiting is enforced. This IP-based protection can be bypassed by distributing requests across multiple IPs (e.g., rotating IP or proxies). Effectively bypassing both login and password reset security controls. Successful exploitation allows an attacker to enumerate valid email addresses registered for the application, increasing the risk of follow-up attacks such as password spraying.\n"
     ]
    }
   ],
   "source": [
    "for idx, x in enumerate(df.sort_values('cve.published', ascending=False)[:10].iterrows()):\n",
    "    print('-'*100)\n",
    "    print(x[1]['cve.id'], x[1]['cve.published'])\n",
    "    print(x[1].description)"
   ]
  },
  {
   "cell_type": "markdown",
   "id": "593e3cfd-f222-4042-a9ef-4a1e4ac9c58f",
   "metadata": {
    "jp-MarkdownHeadingCollapsed": true
   },
   "source": [
    "### <font color='blue'><b><i>TODO</i></b>: produce plots or tables to address the folowing points</font>\n",
    "- what is the percentage of CVEs which received a CVSS score?\n",
    "- report descriptive statistics of CVSS the CVSS base score and/or show its distribution\n",
    "- report descriptive statistics of EPSS and/or show its distribution\n",
    "- produce a scatter plot showing CVSS vs EPSS\n",
    "- <b>be creative</b>!\n",
    "    - How many vulnerabilities are published on CISA KEV? \n",
    "    - What are the the 20 most frequent vendors? (vendor name can be extracted from the `vulnerable_cpes` field).\n",
    "    - What are the 20 most frequent CWEs?\n",
    "    - Anaything else you see fit!\n",
    "\n",
    "<font color='blue'>Use text cells to discuss the outcome after each point</font>"
   ]
  },
  {
   "cell_type": "markdown",
   "id": "80053bc2",
   "metadata": {},
   "source": [
    "## CVEs with EPSS"
   ]
  },
  {
   "cell_type": "code",
   "execution_count": 30,
   "id": "616d93e1",
   "metadata": {},
   "outputs": [
    {
     "name": "stdout",
     "output_type": "stream",
     "text": [
      "Percentage of CVEs with a CVSS base score: 75.69 %\n"
     ]
    }
   ],
   "source": [
    "print(\n",
    "    f'Percentage of CVEs with a CVSS base score: {df[\"cvss_baseScore\"].notna().sum() / len(df) * 100:.2f} %')"
   ]
  },
  {
   "cell_type": "markdown",
   "id": "7b8da0b1",
   "metadata": {},
   "source": [
    "## CVSS statistics"
   ]
  },
  {
   "cell_type": "code",
   "execution_count": 53,
   "id": "d84b1de9",
   "metadata": {},
   "outputs": [
    {
     "data": {
      "image/png": "[encoded data removed]",
      "text/plain": [
       "<Figure size 500x200 with 1 Axes>"
      ]
     },
     "metadata": {},
     "output_type": "display_data"
    }
   ],
   "source": [
    "cvsss = df[df[\"cvss_baseScore\"].notna()]\n",
    "\n",
    "plt.figure(figsize=(5, 2))\n",
    "plt.title(\"Distribution of CVSS score\")\n",
    "plt.hist(cvsss[\"cvss_baseSeverity\"])\n",
    "plt.show()"
   ]
  },
  {
   "cell_type": "markdown",
   "id": "e7d70cf8",
   "metadata": {},
   "source": [
    "## EPSS statistics"
   ]
  },
  {
   "cell_type": "code",
   "execution_count": 62,
   "id": "7bf7d858",
   "metadata": {},
   "outputs": [
    {
     "data": {
      "image/png": "[encoded data removed]",
      "text/plain": [
       "<Figure size 500x200 with 1 Axes>"
      ]
     },
     "metadata": {},
     "output_type": "display_data"
    }
   ],
   "source": [
    "plt.figure(figsize=(5, 2))\n",
    "plt.title(\"Distribution of EPSS score\")\n",
    "plt.hist(df[\"percentile\"])\n",
    "plt.show()"
   ]
  },
  {
   "cell_type": "code",
   "execution_count": 63,
   "id": "ddf658f3",
   "metadata": {},
   "outputs": [
    {
     "data": {
      "image/png": "[encoded data removed]",
      "text/plain": [
       "<Figure size 500x200 with 1 Axes>"
      ]
     },
     "metadata": {},
     "output_type": "display_data"
    }
   ],
   "source": [
    "cvsss = df[df[\"cvss_baseScore\"].notna()]\n",
    "\n",
    "plt.figure(figsize=(5, 2))\n",
    "plt.title(\"Distribution of CVSS score\")\n",
    "plt.scatter(x=cvsss[\"cvss_baseScore\"], y=cvsss[\"epss\"])\n",
    "plt.show()"
   ]
  },
  {
   "cell_type": "code",
   "execution_count": null,
   "metadata": {},
   "outputs": [],
   "source": []
  },
  {
   "cell_type": "code",
   "execution_count": null,
   "id": "ccacfd9a",
   "metadata": {},
   "outputs": [],
   "source": []
  },
  {
   "cell_type": "code",
   "execution_count": null,
   "id": "01a81070",
   "metadata": {},
   "outputs": [],
   "source": []
  },
  {
   "cell_type": "markdown",
   "id": "ca396b81-126f-4d52-af72-aa38120bcae0",
   "metadata": {},
   "source": [
    "# CVE selection\n"
   ]
  },
  {
   "cell_type": "markdown",
   "id": "fe548397-5c5e-437b-a735-e86264804ade",
   "metadata": {},
   "source": [
    "### <font color='blue'><b><i>TODO</i></b>\n",
    "- Filter the CVEs with low EPSS (<1%)\n",
    "- Select candidate CVEs\n",
    "    - From the resulting subset, select 10 CVEs that you think will reach high EPSS by the end of the course.\n",
    "    - Clearly describe the criteria you used for selection (e.g., high CVSS, popular software, CWE, popular vendor, number of references, keyword in description, manual inspection, random sampling, security blogs).\n",
    "- Share the selected CVE ids with the instructor (by two weeks). Use the code cell below to produce the csv file to submit.\n",
    "- Track the EPSS of your CVEs over time\n"
   ]
  },
  {
   "cell_type": "code",
   "execution_count": null,
   "id": "bdd1d97f-ffbd-4834-bf7e-6312a9af822f",
   "metadata": {},
   "outputs": [],
   "source": [
    "nickname = 'template_submsission'  # TODO: put your nickname here\n",
    "\n",
    "\n",
    "# TODO: put your selected IDs here\n",
    "selected = ['CVE-YYYY-XXXXX0',\n",
    "            'CVE-YYYY-XXXXX1',\n",
    "            'CVE-YYYY-XXXXX2',\n",
    "            'CVE-YYYY-XXXXX3',\n",
    "            'CVE-YYYY-XXXXX4',\n",
    "            'CVE-YYYY-XXXXX5',\n",
    "            'CVE-YYYY-XXXXX6',\n",
    "            'CVE-YYYY-XXXXX7',\n",
    "            'CVE-YYYY-XXXXX8',\n",
    "            'CVE-YYYY-XXXXX9',\n",
    "            ]\n",
    "\n",
    "df[df['cve.id'].isin(selected)].to_csv(\n",
    "    os.path.join(data_path, f'{nickname}.csv'))"
   ]
  }
 ],
 "metadata": {
  "kernelspec": {
   "display_name": ".venv",
   "language": "python",
   "name": "python3"
  },
  "language_info": {
   "codemirror_mode": {
    "name": "ipython",
    "version": 3
   },
   "file_extension": ".py",
   "mimetype": "text/x-python",
   "name": "python",
   "nbconvert_exporter": "python",
   "pygments_lexer": "ipython3",
   "version": "3.13.7"
  }
 },
 "nbformat": 4,
 "nbformat_minor": 5
}
